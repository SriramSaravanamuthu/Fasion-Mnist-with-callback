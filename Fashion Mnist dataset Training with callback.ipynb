{
 "cells": [
  {
   "cell_type": "code",
   "execution_count": 1,
   "id": "0d2520c1",
   "metadata": {},
   "outputs": [
    {
     "name": "stderr",
     "output_type": "stream",
     "text": [
      "2022-02-09 22:16:47.809799: W tensorflow/stream_executor/platform/default/dso_loader.cc:64] Could not load dynamic library 'libcudart.so.11.0'; dlerror: libcudart.so.11.0: cannot open shared object file: No such file or directory\n",
      "2022-02-09 22:16:47.809863: I tensorflow/stream_executor/cuda/cudart_stub.cc:29] Ignore above cudart dlerror if you do not have a GPU set up on your machine.\n"
     ]
    }
   ],
   "source": [
    "# importing the necessary libraries \n",
    "import tensorflow as tf \n",
    "import numpy as np \n",
    "# importing the dataset \n",
    "fashion_mnist = tf.keras.datasets.fashion_mnist                                  #How to import external Data\n",
    "(train_images,train_labels),(test_images,test_labels) = fashion_mnist.load_data() \n",
    "# normalizing the pixel values of train and test images \n",
    "train_images = train_images / 255.0 \n",
    "test_images = test_images / 255.0 "
   ]
  },
  {
   "cell_type": "code",
   "execution_count": 2,
   "id": "687eb68a",
   "metadata": {},
   "outputs": [],
   "source": [
    "#Call back to stop the training after certain desired accuracy\n",
    "class myCallback(tf.keras.callbacks.Callback):\n",
    "    def on_epoch_end(self,epoch,logs={}):\n",
    "        if(logs.get('accuracy') >= 0.3):\n",
    "            print(\"\\n Cancelling training since required accuracy is achieved\")\n",
    "            self.model.stop_training=True\n",
    "        \n",
    "callbacks = myCallback()"
   ]
  },
  {
   "cell_type": "code",
   "execution_count": 4,
   "id": "b4c6ee3f",
   "metadata": {},
   "outputs": [
    {
     "name": "stderr",
     "output_type": "stream",
     "text": [
      "2022-02-09 22:17:57.916856: W tensorflow/core/framework/cpu_allocator_impl.cc:82] Allocation of 188160000 exceeds 10% of free system memory.\n"
     ]
    },
    {
     "name": "stdout",
     "output_type": "stream",
     "text": [
      "Epoch 1/5\n",
      "1874/1875 [============================>.] - ETA: 0s - loss: 0.4969 - accuracy: 0.8251\n",
      " Cancelling training since required accuracy is achieved\n",
      "1875/1875 [==============================] - 7s 3ms/step - loss: 0.4968 - accuracy: 0.8252\n"
     ]
    },
    {
     "data": {
      "text/plain": [
       "<keras.callbacks.History at 0x7f9eb82c9d00>"
      ]
     },
     "execution_count": 4,
     "metadata": {},
     "output_type": "execute_result"
    }
   ],
   "source": [
    "# building the classification model with call back\n",
    "model = tf.keras.Sequential([ \n",
    "        tf.keras.layers.Flatten(input_shape=(28,28)), \n",
    "        tf.keras.layers.Dense(128,activation=tf.nn.relu), \n",
    "        tf.keras.layers.Dense(10,activation=tf.nn.softmax)]) \n",
    "model.compile(optimizer='adam',loss='sparse_categorical_crossentropy',metrics=['accuracy'])            #Loss Function types\n",
    "model.fit(train_images,train_labels,epochs=5,callbacks=[callbacks])    #callback ^                                "
   ]
  },
  {
   "cell_type": "code",
   "execution_count": 9,
   "id": "6897167d",
   "metadata": {},
   "outputs": [
    {
     "name": "stdout",
     "output_type": "stream",
     "text": [
      "Model: \"sequential_1\"\n",
      "_________________________________________________________________\n",
      " Layer (type)                Output Shape              Param #   \n",
      "=================================================================\n",
      " flatten_1 (Flatten)         (None, 784)               0         \n",
      "                                                                 \n",
      " dense_2 (Dense)             (None, 128)               100480    \n",
      "                                                                 \n",
      " dense_3 (Dense)             (None, 10)                1290      \n",
      "                                                                 \n",
      "=================================================================\n",
      "Total params: 101,770\n",
      "Trainable params: 101,770\n",
      "Non-trainable params: 0\n",
      "_________________________________________________________________\n"
     ]
    }
   ],
   "source": [
    "model.summary()"
   ]
  },
  {
   "cell_type": "code",
   "execution_count": 5,
   "id": "6c17a96d",
   "metadata": {},
   "outputs": [
    {
     "data": {
      "text/plain": [
       "(10000, 28, 28)"
      ]
     },
     "execution_count": 5,
     "metadata": {},
     "output_type": "execute_result"
    }
   ],
   "source": [
    "test_images.shape"
   ]
  },
  {
   "cell_type": "code",
   "execution_count": 7,
   "id": "258579bf",
   "metadata": {},
   "outputs": [
    {
     "data": {
      "text/plain": [
       "(60000, 28, 28)"
      ]
     },
     "execution_count": 7,
     "metadata": {},
     "output_type": "execute_result"
    }
   ],
   "source": [
    "train_images.shape"
   ]
  },
  {
   "cell_type": "code",
   "execution_count": 8,
   "id": "26d2a754",
   "metadata": {},
   "outputs": [
    {
     "name": "stdout",
     "output_type": "stream",
     "text": [
      "313/313 [==============================] - 1s 2ms/step - loss: 0.3803\n"
     ]
    },
    {
     "data": {
      "text/plain": [
       "0.3802517354488373"
      ]
     },
     "execution_count": 8,
     "metadata": {},
     "output_type": "execute_result"
    }
   ],
   "source": [
    "# Evaluation of the model  \n",
    "model.evaluate(test_images,test_labels)                                 "
   ]
  },
  {
   "cell_type": "code",
   "execution_count": 14,
   "id": "4ec928f2",
   "metadata": {},
   "outputs": [
    {
     "name": "stdout",
     "output_type": "stream",
     "text": [
      "tf.Tensor(\n",
      "[0.09564176 0.08693279 0.09063861 0.08703917 0.08740249 0.08693136\n",
      " 0.20461483 0.08693146 0.08693634 0.08693125], shape=(10,), dtype=float32)\n"
     ]
    }
   ],
   "source": [
    "# Testing of the model \n",
    "classification = model.predict(test_images)                     #How to import external images for prediction\n",
    "print(tf.nn.softmax(classification[4]))\n"
   ]
  },
  {
   "cell_type": "code",
   "execution_count": 15,
   "id": "aeb3e9a5",
   "metadata": {},
   "outputs": [
    {
     "name": "stdout",
     "output_type": "stream",
     "text": [
      "6\n"
     ]
    }
   ],
   "source": [
    "print(test_labels[4]) "
   ]
  },
  {
   "cell_type": "code",
   "execution_count": null,
   "id": "e91694dd",
   "metadata": {},
   "outputs": [],
   "source": []
  }
 ],
 "metadata": {
  "kernelspec": {
   "display_name": "Python 3 (ipykernel)",
   "language": "python",
   "name": "python3"
  },
  "language_info": {
   "codemirror_mode": {
    "name": "ipython",
    "version": 3
   },
   "file_extension": ".py",
   "mimetype": "text/x-python",
   "name": "python",
   "nbconvert_exporter": "python",
   "pygments_lexer": "ipython3",
   "version": "3.8.10"
  }
 },
 "nbformat": 4,
 "nbformat_minor": 5
}
